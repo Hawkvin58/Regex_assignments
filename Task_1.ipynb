{
  "nbformat": 4,
  "nbformat_minor": 0,
  "metadata": {
    "colab": {
      "name": "Task_1.ipynb",
      "provenance": [],
      "collapsed_sections": [],
      "authorship_tag": "ABX9TyOPgZ+cntlXkemRseOBqmo0",
      "include_colab_link": true
    },
    "kernelspec": {
      "name": "python3",
      "display_name": "Python 3"
    },
    "language_info": {
      "name": "python"
    }
  },
  "cells": [
    {
      "cell_type": "markdown",
      "metadata": {
        "id": "view-in-github",
        "colab_type": "text"
      },
      "source": [
        "<a href=\"https://colab.research.google.com/github/Hawkvin58/Regex_assignments/blob/main/Task_1.ipynb\" target=\"_parent\"><img src=\"https://colab.research.google.com/assets/colab-badge.svg\" alt=\"Open In Colab\"/></a>"
      ]
    },
    {
      "cell_type": "markdown",
      "source": [
        "#Name : Vineeth Konduri\n",
        "#Registered_ID: IIPRSS1314\n"
      ],
      "metadata": {
        "id": "qLGA8P6MSFOu"
      }
    },
    {
      "cell_type": "markdown",
      "source": [
        "1.Checking whether a given number is Prime or Not"
      ],
      "metadata": {
        "id": "KYH0Z6GvSn_2"
      }
    },
    {
      "cell_type": "code",
      "source": [
        "#If the number is divisible by only 1 and itself is called as Prime Number\n",
        "\n",
        "x=int(input(\"Give a natuaral number \"))\n",
        "if(x>1):\n",
        " for i in range (2,x):\n",
        "  if((x%i)==0):\n",
        "    print(f'The given number {x} is not a prime')\n",
        "    break\n",
        " else:\n",
        "    print(f'The given number {x} is a prime')\n",
        "else:\n",
        "  print(\"Give a number greater than 1\")\n",
        "  "
      ],
      "metadata": {
        "id": "mPtoJOXoWkGl"
      },
      "execution_count": null,
      "outputs": []
    },
    {
      "cell_type": "markdown",
      "source": [
        "2.Checking whether a given number is Divisible by 3 or Not"
      ],
      "metadata": {
        "id": "vkGUYHyNSy05"
      }
    },
    {
      "cell_type": "code",
      "source": [
        "#171 check by 1+7+1 = 9, if sum id divisible by 3 then, given number is divisible by 3.\n",
        "\n",
        "Num=int(input(\"Give a number \"))\n",
        "k=Num\n",
        "v=int(0)\n",
        "while(Num!=0):\n",
        "  v=v+Num%10\n",
        "  Num=Num//10\n",
        "if(v%3==0):\n",
        "  print(f'The given number {k} is Divisible by 3')\n",
        "else:\n",
        "   print(f'The given number {k} is not Divisible by 3') \n",
        "\n"
      ],
      "metadata": {
        "id": "YRmL8WLcekyP"
      },
      "execution_count": null,
      "outputs": []
    }
  ]
}