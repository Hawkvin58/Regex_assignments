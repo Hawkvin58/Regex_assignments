{
  "nbformat": 4,
  "nbformat_minor": 0,
  "metadata": {
    "colab": {
      "name": "Task_7.ipynb",
      "provenance": [],
      "collapsed_sections": [],
      "authorship_tag": "ABX9TyMitj8RdcKnPvF7e/e+UEe3",
      "include_colab_link": true
    },
    "kernelspec": {
      "name": "python3",
      "display_name": "Python 3"
    },
    "language_info": {
      "name": "python"
    }
  },
  "cells": [
    {
      "cell_type": "markdown",
      "metadata": {
        "id": "view-in-github",
        "colab_type": "text"
      },
      "source": [
        "<a href=\"https://colab.research.google.com/github/Hawkvin58/Regex_assignments/blob/main/Task_7.ipynb\" target=\"_parent\"><img src=\"https://colab.research.google.com/assets/colab-badge.svg\" alt=\"Open In Colab\"/></a>"
      ]
    },
    {
      "cell_type": "markdown",
      "source": [
        "#Name : Vineeth Konduri\n",
        "#Registered_ID: IIPRSS1314"
      ],
      "metadata": {
        "id": "a-WahPzsYD5g"
      }
    },
    {
      "cell_type": "markdown",
      "source": [
        "1. Print pattern of Alphabets in increasing order till E"
      ],
      "metadata": {
        "id": "OiVrfkrVYMEP"
      }
    },
    {
      "cell_type": "code",
      "source": [
        "for i in range (65,70): # ASCII value of alphabet A starts with 65 and for E is 70\n",
        "  for j in range (65,i+1):\n",
        "    print(chr(i), end=\"\")\n",
        "  print()\n"
      ],
      "metadata": {
        "id": "bXOF3D8YYWQR"
      },
      "execution_count": null,
      "outputs": []
    },
    {
      "cell_type": "markdown",
      "source": [
        "2. Program to convert given String into Pig Latin"
      ],
      "metadata": {
        "id": "Gn4V1Z7TZNDW"
      }
    },
    {
      "cell_type": "code",
      "source": [
        "vowel=['a','e','i','o','u','y']\n",
        "total=[]\n",
        "lower_case=input().lower().strip()\n",
        "words=lower_case.split()\n",
        "for word in words:\n",
        "  if not word.isalpha():\n",
        "    print(word+ \"is not a word\")\n",
        "  else:\n",
        "    check=[1 if char in vowel else 0 for char in word]\n",
        "    same=(list(set(check)))\n",
        "    if check[0]==1:\n",
        "      total.append(word+'yay')\n",
        "    elif len(same)==1 and same[0]==0:\n",
        "      total.append(word+'by')\n",
        "    else:\n",
        "      argot=''+word[0]\n",
        "      for value in range(1,len(check)):\n",
        "        if check[value]==check[value-1]:\n",
        "          argot+=word[value]\n",
        "        else:\n",
        "          answer=word[value:]+argot\n",
        "          total.append(answer+'by' if check[0]==0 else answer+'yay')\n",
        "          break\n",
        "print(\" \".join(total))\n",
        "print(words)"
      ],
      "metadata": {
        "id": "FKH92EfjZlZl"
      },
      "execution_count": null,
      "outputs": []
    }
  ]
}