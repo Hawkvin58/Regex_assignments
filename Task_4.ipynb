{
  "nbformat": 4,
  "nbformat_minor": 0,
  "metadata": {
    "colab": {
      "name": "#Task_4.ipynb",
      "provenance": [],
      "authorship_tag": "ABX9TyOOpBBNu8TuEsHQGtb6sgpI",
      "include_colab_link": true
    },
    "kernelspec": {
      "name": "python3",
      "display_name": "Python 3"
    },
    "language_info": {
      "name": "python"
    }
  },
  "cells": [
    {
      "cell_type": "markdown",
      "metadata": {
        "id": "view-in-github",
        "colab_type": "text"
      },
      "source": [
        "<a href=\"https://colab.research.google.com/github/Hawkvin58/Regex_assignments/blob/main/Task_4.ipynb\" target=\"_parent\"><img src=\"https://colab.research.google.com/assets/colab-badge.svg\" alt=\"Open In Colab\"/></a>"
      ]
    },
    {
      "cell_type": "markdown",
      "source": [
        "#Name : Vineeth Konduri\n",
        "#Registered_ID: IIPRSS1314\n",
        "\n",
        "\n"
      ],
      "metadata": {
        "id": "J4Dhr8JhWjRo"
      }
    },
    {
      "cell_type": "markdown",
      "source": [
        "1.Checking whether a given string is palindrome or not, without using slicing"
      ],
      "metadata": {
        "id": "A0Ga8ekGW-Hy"
      }
    },
    {
      "cell_type": "code",
      "source": [
        "s1=input(\"Enter the string to check palindrome: \")\n",
        "s2=\"\"\n",
        "for i in s1:\n",
        "  s2=i+s2\n",
        "if(s1==s2):\n",
        "  print(f\"yes, the string {s1} it is a palindrome\")\n",
        "else:\n",
        "  print(f\"No, the string {s1} is not a palindrome\")\n"
      ],
      "metadata": {
        "id": "vrMz3ETaW5_x"
      },
      "execution_count": null,
      "outputs": []
    },
    {
      "cell_type": "markdown",
      "source": [
        "2.Take a number and try to keep dividing it by second number\n",
        "  Eg., 134578  ,  2 and print the remainder in each normal division\n",
        "        10110:"
      ],
      "metadata": {
        "id": "DdZQVukbYPKS"
      }
    },
    {
      "cell_type": "code",
      "source": [
        "num=int(input(\"Enter a six digit no: \" ))\n",
        "key=int(input(\"Enter a number for divisor: \" ))\n",
        "temp=num\n",
        "count=0\n",
        "while(temp>0):\n",
        "  temp=temp//10\n",
        "  count+=1\n",
        "if(count==6):\n",
        "  x=num//10000\n",
        "  a=x%key\n",
        "  x1=(num - x*10000)//1000\n",
        "  b=x1%key\n",
        "  x2=(num - x*10000 - x1*1000)//100\n",
        "  c=x2%key\n",
        "  x3=(num - x*10000 - x1*1000 - x2*100)//10\n",
        "  d=x3%key\n",
        "  x4=num - x*10000 - x1*1000 - x2*100 -x3*10\n",
        "  e=x4%key\n",
        "  print(f\"The Divident is : \" , num , \"The Divisor is : \",key, \"And the Remainder is: \",a,b,c,d,e)\n",
        "else:\n",
        " print(\"please give a six digit number\")"
      ],
      "metadata": {
        "id": "mity4FPNYUW5"
      },
      "execution_count": null,
      "outputs": []
    }
  ]
}