{
  "nbformat": 4,
  "nbformat_minor": 0,
  "metadata": {
    "colab": {
      "name": "Task_2.ipynb",
      "provenance": [],
      "authorship_tag": "ABX9TyPCLtuz7apov/rB5SQW6XSz",
      "include_colab_link": true
    },
    "kernelspec": {
      "name": "python3",
      "display_name": "Python 3"
    },
    "language_info": {
      "name": "python"
    }
  },
  "cells": [
    {
      "cell_type": "markdown",
      "metadata": {
        "id": "view-in-github",
        "colab_type": "text"
      },
      "source": [
        "<a href=\"https://colab.research.google.com/github/Hawkvin58/Regex_assignments/blob/main/Task_2.ipynb\" target=\"_parent\"><img src=\"https://colab.research.google.com/assets/colab-badge.svg\" alt=\"Open In Colab\"/></a>"
      ]
    },
    {
      "cell_type": "markdown",
      "source": [
        "#Name : Vineeth Konduri\n",
        "#Registered_ID: IIPRSS1314"
      ],
      "metadata": {
        "id": "wr9SjW3DiCi9"
      }
    },
    {
      "cell_type": "markdown",
      "source": [
        "1. Print Pattern of * decreasing order on required number of rows"
      ],
      "metadata": {
        "id": "D2DrgDc5iMyv"
      }
    },
    {
      "cell_type": "code",
      "source": [
        "row=int(input(\"How many rows needed \"))\n",
        "for i in range(1,row+1):\n",
        "  for j in range(row+1,i,-1): \n",
        "   print(\"*\", end=\" \")\n",
        "  print() "
      ],
      "metadata": {
        "id": "hF1cknW1hTus"
      },
      "execution_count": null,
      "outputs": []
    },
    {
      "cell_type": "markdown",
      "source": [
        "2. Print pattern of Increasing numbers simultaneously with rows"
      ],
      "metadata": {
        "id": "q0kas-6qmpRS"
      }
    },
    {
      "cell_type": "code",
      "source": [
        "row=int(input(\"How many rows needed \"))\n",
        "for i in range (1,row+1):\n",
        "  for j in range(1,i+1):\n",
        "    print(f\"{j}\", end=\" \")\n",
        "  print()"
      ],
      "metadata": {
        "id": "E1lSFWfenC9c"
      },
      "execution_count": null,
      "outputs": []
    },
    {
      "cell_type": "markdown",
      "source": [
        "3. Print Tringular pattern of a required number of rows."
      ],
      "metadata": {
        "id": "995JzEkZlRZf"
      }
    },
    {
      "cell_type": "code",
      "execution_count": null,
      "metadata": {
        "id": "LyfYFH0Cui2e"
      },
      "outputs": [],
      "source": [
        "row=int(input(\"How many rows needed \"))\n",
        "for i in  range(0,row+1):\n",
        "  for j in range(row,i,-1):\n",
        "    print(\" \",end=\"\")\n",
        "  for k in range(0,i):\n",
        "    print(\"* \",end=\"\")\n",
        "  print()\n"
      ]
    }
  ]
}