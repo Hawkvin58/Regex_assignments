{
  "nbformat": 4,
  "nbformat_minor": 0,
  "metadata": {
    "colab": {
      "name": "#Task_5.ipynb",
      "provenance": [],
      "authorship_tag": "ABX9TyNpTx/WxcuFP+IsG069db+j",
      "include_colab_link": true
    },
    "kernelspec": {
      "name": "python3",
      "display_name": "Python 3"
    },
    "language_info": {
      "name": "python"
    }
  },
  "cells": [
    {
      "cell_type": "markdown",
      "metadata": {
        "id": "view-in-github",
        "colab_type": "text"
      },
      "source": [
        "<a href=\"https://colab.research.google.com/github/Hawkvin58/Regex_assignments/blob/main/Task_5.ipynb\" target=\"_parent\"><img src=\"https://colab.research.google.com/assets/colab-badge.svg\" alt=\"Open In Colab\"/></a>"
      ]
    },
    {
      "cell_type": "markdown",
      "source": [
        "#Name : Vineeth Konduri\n",
        "#Registered_ID: IIPRSS1314"
      ],
      "metadata": {
        "id": "xJd2R59ubtZ1"
      }
    },
    {
      "cell_type": "markdown",
      "source": [
        "Get the LCM and GCD of given numners using Functions"
      ],
      "metadata": {
        "id": "VI57prw6b3zv"
      }
    },
    {
      "cell_type": "code",
      "execution_count": null,
      "metadata": {
        "id": "8k0cS-AVbqYg"
      },
      "outputs": [],
      "source": [
        "def lcm(x,y):\n",
        "  if x>y:\n",
        "    greater=x\n",
        "  else:\n",
        "    greater=y\n",
        "  n=0\n",
        "  while n==0:\n",
        "    if((greater%x==0)and (greater%y==0)):\n",
        "      lcm=greater\n",
        "      n=1\n",
        "    greater+=1\n",
        "  return lcm\n",
        "\n",
        "def gcd(a,b):\n",
        "  if(b==0):\n",
        "    return a\n",
        "  else:\n",
        "    return gcd(b,a%b)\n",
        "\n",
        "num1= int(input(\"Enter the First number: \\n\"))\n",
        "num2= int(input(\"Enter the second number: \\n\"))\n",
        "print (f\"The LCM of {num1} and {num2} is {lcm(num1,num2)}\")\n",
        "print (f\"The GCD of {num1} and {num2} is {gcd(num1,num2)}\")\n"
      ]
    }
  ]
}